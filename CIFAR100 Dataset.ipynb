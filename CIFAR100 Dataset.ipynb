{
  "cells": [
    {
      "cell_type": "markdown",
      "metadata": {
        "id": "aNHkUv5-zv8F"
      },
      "source": [
        "### **Libraries**"
      ]
    },
    {
      "cell_type": "code",
      "execution_count": 13,
      "metadata": {
        "id": "9CJx4x1pzxtc"
      },
      "outputs": [],
      "source": [
        "import time\n",
        "import torch\n",
        "import torch.nn as nn\n",
        "import torch.optim as optim\n",
        "import torchvision\n",
        "import torchvision.transforms as transforms\n",
        "from torch.utils.data import DataLoader\n",
        "from sklearn.metrics import f1_score\n",
        "import matplotlib.pyplot as plt\n",
        "import numpy as np"
      ]
    },
    {
      "cell_type": "code",
      "execution_count": 16,
      "metadata": {
        "colab": {
          "base_uri": "https://localhost:8080/"
        },
        "id": "NjiLMc300PrZ",
        "outputId": "1e9e08a1-7b2e-4789-8521-30729fbe3b96"
      },
      "outputs": [
        {
          "name": "stdout",
          "output_type": "stream",
          "text": [
            "Using device: cuda\n"
          ]
        }
      ],
      "source": [
        "# Check GPU availability\n",
        "device = torch.device(\"cuda\" if torch.cuda.is_available() else \"cpu\")\n",
        "print(f\"Using device: {device}\")"
      ]
    },
    {
      "cell_type": "markdown",
      "metadata": {
        "id": "BsU6DNdy0bAM"
      },
      "source": [
        "### **Dataset**\n",
        "\n",
        "The **CIFAR-100** dataset consists of of 60,000 color images, each of size 32×32 pixels, divided into 100 classes with 600 images per class. The dataset is further split into 50,000 training images and 10,000 test images.\n",
        "\n",
        "In this case, images are resized to match the required input size of some models as most of them require a 225x225 image size as they were programmed on ImageNet."
      ]
    },
    {
      "cell_type": "code",
      "execution_count": 17,
      "metadata": {
        "colab": {
          "base_uri": "https://localhost:8080/"
        },
        "id": "a8iGnlfU0SGN",
        "outputId": "188ff0b5-f537-4f5f-c75c-4d02f640e27b"
      },
      "outputs": [
        {
          "name": "stdout",
          "output_type": "stream",
          "text": [
            "Files already downloaded and verified\n",
            "Files already downloaded and verified\n",
            "Files already downloaded and verified\n",
            "Files already downloaded and verified\n"
          ]
        }
      ],
      "source": [
        "# Size tranformation\n",
        "transform = transforms.Compose([\n",
        "    transforms.Resize((224, 224)),  # Resize to match models' expected input size\n",
        "    transforms.ToTensor(),\n",
        "    transforms.Normalize(mean=[0.485, 0.456, 0.406], std=[0.229, 0.224, 0.225]) # ImageNet mean values\n",
        "])\n",
        "\n",
        "# Size tranformation for InceptionV3\n",
        "transform_inception = transforms.Compose([\n",
        "    transforms.Resize((299, 299)),  # Resize to 299x299 pixels for InceptionV3\n",
        "    transforms.ToTensor(),\n",
        "    transforms.Normalize(mean=[0.485, 0.456, 0.406], std=[0.229, 0.224, 0.225]),\n",
        "])\n",
        "\n",
        "# CIFAR-100 dataset\n",
        "trainset = torchvision.datasets.CIFAR100(root='./data', train=True, download=True, transform=transform)\n",
        "trainloader = DataLoader(trainset, batch_size=32, shuffle=True, num_workers=2)\n",
        "\n",
        "testset = torchvision.datasets.CIFAR100(root='./data', train=False, download=True, transform=transform)\n",
        "testloader = DataLoader(testset, batch_size=32, shuffle=False, num_workers=2)\n",
        "\n",
        "# CIFAR-100 dataset for InceptionV3\n",
        "trainset_inception = torchvision.datasets.CIFAR100(root='./data', train=True, download=True, transform=transform_inception)\n",
        "trainloader_inception = DataLoader(trainset_inception, batch_size=32, shuffle=True, num_workers=2)\n",
        "\n",
        "testset_inception = torchvision.datasets.CIFAR100(root='./data', train=False, download=True, transform=transform_inception)\n",
        "testloader_inception = DataLoader(testset_inception, batch_size=32, shuffle=False, num_workers=2)"
      ]
    },
    {
      "cell_type": "markdown",
      "metadata": {
        "id": "F1C7_Hb10seV"
      },
      "source": [
        "The CNN architectures that will be considered are the following:\n",
        "\n",
        "- **AlexNet:** Original architecture\n",
        "- **ResNet:** ResNet-50\n",
        "- **VGGNet:** VGG-16\n",
        "- **GoogleNet:** Inception v3\n",
        "- **EfficientNet:** EfficientNet-B1, EfficientNet-B3 EfficientNet-B5"
      ]
    },
    {
      "cell_type": "code",
      "execution_count": 18,
      "metadata": {
        "colab": {
          "base_uri": "https://localhost:8080/"
        },
        "id": "mrgUd4ZB1OJ5",
        "outputId": "e23b4017-f02d-4244-b67c-88507ded051b"
      },
      "outputs": [
        {
          "name": "stderr",
          "output_type": "stream",
          "text": [
            "c:\\Users\\aleca\\AppData\\Local\\Programs\\Python\\Python312\\Lib\\site-packages\\torchvision\\models\\_utils.py:208: UserWarning: The parameter 'pretrained' is deprecated since 0.13 and may be removed in the future, please use 'weights' instead.\n",
            "  warnings.warn(\n",
            "c:\\Users\\aleca\\AppData\\Local\\Programs\\Python\\Python312\\Lib\\site-packages\\torchvision\\models\\_utils.py:223: UserWarning: Arguments other than a weight enum or `None` for 'weights' are deprecated since 0.13 and may be removed in the future. The current behavior is equivalent to passing `weights=AlexNet_Weights.IMAGENET1K_V1`. You can also use `weights=AlexNet_Weights.DEFAULT` to get the most up-to-date weights.\n",
            "  warnings.warn(msg)\n",
            "Downloading: \"https://download.pytorch.org/models/alexnet-owt-7be5be79.pth\" to C:\\Users\\aleca/.cache\\torch\\hub\\checkpoints\\alexnet-owt-7be5be79.pth\n",
            "100%|██████████| 233M/233M [00:10<00:00, 24.2MB/s] \n",
            "c:\\Users\\aleca\\AppData\\Local\\Programs\\Python\\Python312\\Lib\\site-packages\\torchvision\\models\\_utils.py:223: UserWarning: Arguments other than a weight enum or `None` for 'weights' are deprecated since 0.13 and may be removed in the future. The current behavior is equivalent to passing `weights=ResNet50_Weights.IMAGENET1K_V1`. You can also use `weights=ResNet50_Weights.DEFAULT` to get the most up-to-date weights.\n",
            "  warnings.warn(msg)\n",
            "Downloading: \"https://download.pytorch.org/models/resnet50-0676ba61.pth\" to C:\\Users\\aleca/.cache\\torch\\hub\\checkpoints\\resnet50-0676ba61.pth\n",
            "100%|██████████| 97.8M/97.8M [00:02<00:00, 45.4MB/s]\n",
            "c:\\Users\\aleca\\AppData\\Local\\Programs\\Python\\Python312\\Lib\\site-packages\\torchvision\\models\\_utils.py:223: UserWarning: Arguments other than a weight enum or `None` for 'weights' are deprecated since 0.13 and may be removed in the future. The current behavior is equivalent to passing `weights=VGG16_Weights.IMAGENET1K_V1`. You can also use `weights=VGG16_Weights.DEFAULT` to get the most up-to-date weights.\n",
            "  warnings.warn(msg)\n",
            "Downloading: \"https://download.pytorch.org/models/vgg16-397923af.pth\" to C:\\Users\\aleca/.cache\\torch\\hub\\checkpoints\\vgg16-397923af.pth\n",
            "100%|██████████| 528M/528M [00:10<00:00, 50.8MB/s] \n",
            "c:\\Users\\aleca\\AppData\\Local\\Programs\\Python\\Python312\\Lib\\site-packages\\torchvision\\models\\_utils.py:223: UserWarning: Arguments other than a weight enum or `None` for 'weights' are deprecated since 0.13 and may be removed in the future. The current behavior is equivalent to passing `weights=Inception_V3_Weights.IMAGENET1K_V1`. You can also use `weights=Inception_V3_Weights.DEFAULT` to get the most up-to-date weights.\n",
            "  warnings.warn(msg)\n",
            "Downloading: \"https://download.pytorch.org/models/inception_v3_google-0cc3c7bd.pth\" to C:\\Users\\aleca/.cache\\torch\\hub\\checkpoints\\inception_v3_google-0cc3c7bd.pth\n",
            "100%|██████████| 104M/104M [00:03<00:00, 36.1MB/s] \n",
            "c:\\Users\\aleca\\AppData\\Local\\Programs\\Python\\Python312\\Lib\\site-packages\\torchvision\\models\\_utils.py:223: UserWarning: Arguments other than a weight enum or `None` for 'weights' are deprecated since 0.13 and may be removed in the future. The current behavior is equivalent to passing `weights=EfficientNet_B1_Weights.IMAGENET1K_V1`. You can also use `weights=EfficientNet_B1_Weights.DEFAULT` to get the most up-to-date weights.\n",
            "  warnings.warn(msg)\n",
            "Downloading: \"https://download.pytorch.org/models/efficientnet_b1_rwightman-bac287d4.pth\" to C:\\Users\\aleca/.cache\\torch\\hub\\checkpoints\\efficientnet_b1_rwightman-bac287d4.pth\n",
            "100%|██████████| 30.1M/30.1M [00:01<00:00, 30.0MB/s]\n",
            "c:\\Users\\aleca\\AppData\\Local\\Programs\\Python\\Python312\\Lib\\site-packages\\torchvision\\models\\_utils.py:223: UserWarning: Arguments other than a weight enum or `None` for 'weights' are deprecated since 0.13 and may be removed in the future. The current behavior is equivalent to passing `weights=EfficientNet_B3_Weights.IMAGENET1K_V1`. You can also use `weights=EfficientNet_B3_Weights.DEFAULT` to get the most up-to-date weights.\n",
            "  warnings.warn(msg)\n",
            "Downloading: \"https://download.pytorch.org/models/efficientnet_b3_rwightman-b3899882.pth\" to C:\\Users\\aleca/.cache\\torch\\hub\\checkpoints\\efficientnet_b3_rwightman-b3899882.pth\n",
            "100%|██████████| 47.2M/47.2M [00:00<00:00, 51.4MB/s]\n",
            "c:\\Users\\aleca\\AppData\\Local\\Programs\\Python\\Python312\\Lib\\site-packages\\torchvision\\models\\_utils.py:223: UserWarning: Arguments other than a weight enum or `None` for 'weights' are deprecated since 0.13 and may be removed in the future. The current behavior is equivalent to passing `weights=EfficientNet_B5_Weights.IMAGENET1K_V1`. You can also use `weights=EfficientNet_B5_Weights.DEFAULT` to get the most up-to-date weights.\n",
            "  warnings.warn(msg)\n",
            "Downloading: \"https://download.pytorch.org/models/efficientnet_b5_lukemelas-1a07897c.pth\" to C:\\Users\\aleca/.cache\\torch\\hub\\checkpoints\\efficientnet_b5_lukemelas-1a07897c.pth\n",
            "100%|██████████| 117M/117M [00:02<00:00, 47.2MB/s] \n"
          ]
        }
      ],
      "source": [
        "# Define models\n",
        "models = {\n",
        "    'AlexNet': torchvision.models.alexnet(pretrained=True),\n",
        "    'ResNet50': torchvision.models.resnet50(pretrained=True),\n",
        "    'VGG16': torchvision.models.vgg16(pretrained=True),\n",
        "    'InceptionV3': torchvision.models.inception_v3(pretrained=True, aux_logits=True),\n",
        "    'EfficientNet-B1': torchvision.models.efficientnet_b1(pretrained=True),\n",
        "    'EfficientNet-B3': torchvision.models.efficientnet_b3(pretrained=True),\n",
        "    'EfficientNet-B5': torchvision.models.efficientnet_b5(pretrained=True)\n",
        "}"
      ]
    },
    {
      "cell_type": "markdown",
      "metadata": {},
      "source": [
        "The following code ensures that each model is adapted to the CIFAR-100 dataset by replacing the final layer of the model. For models like AlexNet, VGG, and EfficientNet, this modification is made to the classifier's last layer, while for Inception and other models, it's made to the last fully connected layer "
      ]
    },
    {
      "cell_type": "code",
      "execution_count": 19,
      "metadata": {
        "id": "mKU72Ur81ifC"
      },
      "outputs": [],
      "source": [
        "# Modify the final layer to match CIFAR-100 classes\n",
        "for name, model in models.items():\n",
        "    if 'EfficientNet' in name:\n",
        "        num_ftrs = model.classifier[-1].in_features\n",
        "        model.classifier[-1] = nn.Linear(num_ftrs, 100)\n",
        "    elif 'Inception' in name:\n",
        "        num_ftrs = model.fc.in_features\n",
        "        model.fc = nn.Linear(num_ftrs, 100)\n",
        "    elif 'AlexNet' in name or 'VGG' in name:\n",
        "        num_ftrs = model.classifier[-1].in_features\n",
        "        model.classifier[-1] = nn.Linear(num_ftrs, 100)\n",
        "    else:\n",
        "        num_ftrs = model.fc.in_features\n",
        "        model.fc = nn.Linear(num_ftrs, 100)\n",
        "    models[name] = model.to(device)"
      ]
    },
    {
      "cell_type": "markdown",
      "metadata": {},
      "source": [
        "This part initializes the loss function used for training the models. Cross-entropy loss measures how well a model's predicted probability distribution matches the actual distribution of the labels.\n",
        "\n",
        "The mathematical definition of the cross-entropy loss for a dataset is defined as:\n",
        "\n",
        "$$\n",
        "L = -\\frac{1}{N} \\sum_{n=1}^N \\sum_{i=1}^C y_{ni} \\log(p_{ni})\n",
        "$$\n",
        "\n",
        "- \\(N\\): The number of samples.\n",
        "- \\(y_{ni}\\): The actual binary indicator for sample \\(n\\) and class \\(i\\).\n",
        "- \\(p_{ni}\\): The predicted probability for sample \\(n\\) and class \\(i\\)."
      ]
    },
    {
      "cell_type": "code",
      "execution_count": null,
      "metadata": {},
      "outputs": [],
      "source": [
        "# Define loss function\n",
        "criterion = nn.CrossEntropyLoss()"
      ]
    },
    {
      "cell_type": "markdown",
      "metadata": {},
      "source": [
        "For the following part:\n",
        "\n",
        "The **train_model** funtion trains a given model on the training dataset for a specified number of epochs while tracking the loss and accuracy.\n",
        "\n",
        "The **evaluate_model** functio evaluates the trained model on the test dataset.\n",
        "\n",
        "The **train_model_inception** function trains the InceptionV3 model with accuracy tracking. The function outputs a tuple when *aux_logits* is *True*. The code checks if the output is a tuple and uses only the main output (ignoring auxiliary outputs)."
      ]
    },
    {
      "cell_type": "code",
      "execution_count": 20,
      "metadata": {
        "id": "mYq_yD2h2ZCa"
      },
      "outputs": [],
      "source": [
        "# Function to train the model with accuracy tracking\n",
        "def train_model(model, trainloader, criterion, optimizer, num_epochs=25):\n",
        "    model.train()\n",
        "    for epoch in range(num_epochs):\n",
        "        running_loss = 0.0\n",
        "        correct = 0\n",
        "        total = 0\n",
        "        start_time = time.time()\n",
        "        for i, data in enumerate(trainloader, 0):\n",
        "            inputs, labels = data[0].to(device), data[1].to(device)\n",
        "            optimizer.zero_grad()\n",
        "            outputs = model(inputs)\n",
        "            loss = criterion(outputs, labels)\n",
        "            loss.backward()\n",
        "            optimizer.step()\n",
        "\n",
        "            running_loss += loss.item()\n",
        "\n",
        "            _, preds = torch.max(outputs, 1)\n",
        "            correct += torch.sum(preds == labels).item()\n",
        "            total += labels.size(0)\n",
        "\n",
        "        epoch_loss = running_loss / len(trainloader)\n",
        "        epoch_accuracy = correct / total\n",
        "        end_time = time.time()\n",
        "\n",
        "        print(f\"Epoch {epoch+1}, Loss: {epoch_loss:.4f}, Accuracy: {epoch_accuracy:.4f}, Time: {end_time - start_time:.2f} seconds\")\n",
        "\n",
        "# Function to evaluate the model\n",
        "def evaluate_model(model, testloader):\n",
        "    model.eval()\n",
        "    all_preds = []\n",
        "    all_labels = []\n",
        "    correct = 0\n",
        "    total = 0\n",
        "    with torch.no_grad():\n",
        "        for inputs, labels in testloader:\n",
        "            inputs, labels = inputs.to(device), labels.to(device)\n",
        "            outputs = model(inputs)\n",
        "            _, preds = torch.max(outputs, 1)\n",
        "            correct += torch.sum(preds == labels).item()\n",
        "            total += labels.size(0)\n",
        "            all_preds.extend(preds.cpu().numpy())\n",
        "            all_labels.extend(labels.cpu().numpy())\n",
        "\n",
        "    accuracy = correct / total\n",
        "    f1 = f1_score(all_labels, all_preds, average='weighted')\n",
        "    return accuracy, f1\n",
        "\n",
        "# Define a modified train function for InceptionV3\n",
        "def train_model_inception(model, trainloader, criterion, optimizer, num_epochs=25):\n",
        "    model.train()\n",
        "    for epoch in range(num_epochs):\n",
        "        running_loss = 0.0\n",
        "        start_time = time.time()\n",
        "        correct = 0\n",
        "        total = 0\n",
        "        for i, data in enumerate(trainloader, 0):\n",
        "            inputs, labels = data[0].to(device), data[1].to(device)\n",
        "            optimizer.zero_grad()\n",
        "            outputs = model(inputs)\n",
        "            if isinstance(outputs, tuple):\n",
        "                outputs = outputs[0]  # Use only the main output\n",
        "            loss = criterion(outputs, labels)\n",
        "            loss.backward()\n",
        "            optimizer.step()\n",
        "            running_loss += loss.item()\n",
        "            _, preds = torch.max(outputs, 1)\n",
        "            correct += (preds == labels).sum().item()\n",
        "            total += labels.size(0)\n",
        "        end_time = time.time()\n",
        "        epoch_accuracy = correct / total\n",
        "        print(f\"Epoch {epoch+1}, Loss: {running_loss / len(trainloader)}, Accuracy: {epoch_accuracy * 100:.2f}%, Time: {end_time - start_time} seconds\")"
      ]
    },
    {
      "cell_type": "markdown",
      "metadata": {},
      "source": [
        "### **Model's training**\n",
        "\n",
        "Now, each one of the architectures previously mentioned are trained in the same way. The models are trained in the training data for 25 epochs using the Adam optimizer with a learning rate of 0.001. The most important definition of this section are the following:\n",
        "\n",
        "- **Epoch** refers to one complete pass of the entire training dataset through the learning algorithm. \n",
        "\n",
        "- **Adam optimizer** (*optim.Adam*) is an adaptive learning rate optimization algorithm designed specifically for training deep neural networks. It combines the advantages of two other extensions of stochastic gradient descent: AdaGrad and RMSProp.\n",
        "\n",
        "- **Learning rate** controls how much to change the model in response to the estimated error each time the model weights are updated during training. \n",
        "\n",
        "After training, the model is evaluated on the test data (testloader) to calculate the accuracy and F1 score. Finally, the results including the accuracy, F1 score, and training time are printed to the console."
      ]
    },
    {
      "cell_type": "markdown",
      "metadata": {},
      "source": [
        "#### **AlexNet**"
      ]
    },
    {
      "cell_type": "code",
      "execution_count": null,
      "metadata": {
        "colab": {
          "base_uri": "https://localhost:8080/"
        },
        "id": "BvVVRhzZ5jC8",
        "outputId": "ffcbb461-5a89-44b9-a99f-9b0eb1c465f5"
      },
      "outputs": [
        {
          "name": "stdout",
          "output_type": "stream",
          "text": [
            "\n",
            "Training AlexNet...\n",
            "\n",
            "Epoch 1, Loss: 4.6061, Accuracy: 0.0085, Time: 61.72 seconds\n",
            "Epoch 2, Loss: 4.6061, Accuracy: 0.0094, Time: 61.00 seconds\n",
            "Epoch 3, Loss: 4.6060, Accuracy: 0.0090, Time: 60.95 seconds\n",
            "Epoch 4, Loss: 4.6060, Accuracy: 0.0092, Time: 60.88 seconds\n",
            "Epoch 5, Loss: 4.6060, Accuracy: 0.0083, Time: 61.06 seconds\n",
            "Epoch 6, Loss: 4.6061, Accuracy: 0.0093, Time: 60.86 seconds\n",
            "Epoch 7, Loss: 4.6061, Accuracy: 0.0086, Time: 60.83 seconds\n",
            "Epoch 8, Loss: 4.6060, Accuracy: 0.0089, Time: 61.31 seconds\n",
            "Epoch 9, Loss: 4.6060, Accuracy: 0.0094, Time: 61.92 seconds\n",
            "Epoch 10, Loss: 4.6060, Accuracy: 0.0090, Time: 61.70 seconds\n",
            "Epoch 11, Loss: 4.6060, Accuracy: 0.0088, Time: 61.79 seconds\n",
            "Epoch 12, Loss: 4.6060, Accuracy: 0.0086, Time: 61.68 seconds\n",
            "Epoch 13, Loss: 4.6060, Accuracy: 0.0086, Time: 61.60 seconds\n",
            "Epoch 14, Loss: 4.6059, Accuracy: 0.0085, Time: 61.79 seconds\n",
            "Epoch 15, Loss: 4.6059, Accuracy: 0.0089, Time: 61.83 seconds\n",
            "Epoch 16, Loss: 4.6059, Accuracy: 0.0087, Time: 61.64 seconds\n",
            "Epoch 17, Loss: 4.6060, Accuracy: 0.0085, Time: 61.63 seconds\n",
            "Epoch 18, Loss: 4.6060, Accuracy: 0.0089, Time: 61.58 seconds\n",
            "Epoch 19, Loss: 4.6059, Accuracy: 0.0094, Time: 61.72 seconds\n",
            "Epoch 20, Loss: 4.6060, Accuracy: 0.0091, Time: 61.66 seconds\n",
            "Epoch 21, Loss: 4.6060, Accuracy: 0.0086, Time: 61.78 seconds\n",
            "Epoch 22, Loss: 4.6060, Accuracy: 0.0085, Time: 61.89 seconds\n",
            "Epoch 23, Loss: 4.6059, Accuracy: 0.0084, Time: 61.18 seconds\n",
            "Epoch 24, Loss: 4.6060, Accuracy: 0.0092, Time: 61.74 seconds\n",
            "Epoch 25, Loss: 4.6060, Accuracy: 0.0088, Time: 61.26 seconds\n",
            "AlexNet - Top-1 Accuracy: 1.00%\n",
            "AlexNet - F1 Score: 0.00\n",
            "AlexNet - Training Time: 1537.00 seconds\n"
          ]
        }
      ],
      "source": [
        "# Train and evaluate AlexNet\n",
        "model_name = 'AlexNet'\n",
        "print(f\"\\nTraining {model_name}...\\n\")\n",
        "model = models[model_name]\n",
        "optimizer = optim.Adam(model.parameters(), lr=0.001) # lr=0.001 is considered standar for the learning rate\n",
        "start_time = time.time()\n",
        "train_model(model, trainloader, criterion, optimizer, num_epochs=25) # num_epochs=25 due to hardware limitation\n",
        "training_time = time.time() - start_time\n",
        "accuracy, f1 = evaluate_model(model, testloader)\n",
        "\n",
        "print(f\"{model_name} - Top-1 Accuracy: {accuracy * 100:.2f}%\")\n",
        "print(f\"{model_name} - F1 Score: {f1:.2f}\")\n",
        "print(f\"{model_name} - Training Time: {training_time:.2f} seconds\")"
      ]
    },
    {
      "cell_type": "markdown",
      "metadata": {},
      "source": [
        "#### **ResNet-50**"
      ]
    },
    {
      "cell_type": "code",
      "execution_count": null,
      "metadata": {
        "colab": {
          "base_uri": "https://localhost:8080/"
        },
        "id": "mfnZpVcf2d5o",
        "outputId": "4a335ff2-d3ac-4375-8aa3-0795908dadf4"
      },
      "outputs": [
        {
          "name": "stdout",
          "output_type": "stream",
          "text": [
            "\n",
            "Training ResNet50...\n",
            "\n",
            "Epoch 1, Loss: 3.8320, Accuracy: 0.1001, Time: 239.96 seconds\n",
            "Epoch 2, Loss: 2.9230, Accuracy: 0.2579, Time: 239.93 seconds\n",
            "Epoch 3, Loss: 2.3188, Accuracy: 0.3825, Time: 239.56 seconds\n",
            "Epoch 4, Loss: 1.9734, Accuracy: 0.4613, Time: 238.06 seconds\n",
            "Epoch 5, Loss: 1.7027, Accuracy: 0.5245, Time: 238.09 seconds\n",
            "Epoch 6, Loss: 1.4844, Accuracy: 0.5799, Time: 237.72 seconds\n",
            "Epoch 7, Loss: 1.2972, Accuracy: 0.6244, Time: 237.89 seconds\n",
            "Epoch 8, Loss: 1.1180, Accuracy: 0.6698, Time: 238.16 seconds\n",
            "Epoch 9, Loss: 0.9522, Accuracy: 0.7152, Time: 238.42 seconds\n",
            "Epoch 10, Loss: 0.7862, Accuracy: 0.7604, Time: 238.61 seconds\n",
            "Epoch 11, Loss: 0.6475, Accuracy: 0.7972, Time: 238.55 seconds\n",
            "Epoch 12, Loss: 0.5247, Accuracy: 0.8347, Time: 238.55 seconds\n",
            "Epoch 13, Loss: 0.4255, Accuracy: 0.8654, Time: 238.72 seconds\n",
            "Epoch 14, Loss: 0.3589, Accuracy: 0.8851, Time: 238.45 seconds\n",
            "Epoch 15, Loss: 0.3063, Accuracy: 0.9012, Time: 238.07 seconds\n",
            "Epoch 16, Loss: 0.2609, Accuracy: 0.9160, Time: 237.52 seconds\n",
            "Epoch 17, Loss: 0.2346, Accuracy: 0.9244, Time: 238.47 seconds\n",
            "Epoch 18, Loss: 0.2083, Accuracy: 0.9331, Time: 237.68 seconds\n",
            "Epoch 19, Loss: 0.1930, Accuracy: 0.9378, Time: 237.51 seconds\n",
            "Epoch 20, Loss: 0.1764, Accuracy: 0.9432, Time: 237.69 seconds\n",
            "Epoch 21, Loss: 0.1632, Accuracy: 0.9480, Time: 237.67 seconds\n",
            "Epoch 22, Loss: 0.1524, Accuracy: 0.9514, Time: 237.59 seconds\n",
            "Epoch 23, Loss: 0.1412, Accuracy: 0.9556, Time: 237.57 seconds\n",
            "Epoch 24, Loss: 0.1336, Accuracy: 0.9575, Time: 238.18 seconds\n",
            "Epoch 25, Loss: 0.1314, Accuracy: 0.9574, Time: 239.04 seconds\n",
            "ResNet50 - Top-1 Accuracy: 58.62%\n",
            "ResNet50 - F1 Score: 0.59\n",
            "ResNet50 - Training Time: 5957.68 seconds\n"
          ]
        }
      ],
      "source": [
        "# Train and evaluate ResNet50\n",
        "model_name = 'ResNet50'\n",
        "print(f\"\\nTraining {model_name}...\\n\")\n",
        "model = models[model_name]\n",
        "optimizer = optim.Adam(model.parameters(), lr=0.001)\n",
        "start_time = time.time()\n",
        "train_model(model, trainloader, criterion, optimizer, num_epochs=25)\n",
        "training_time = time.time() - start_time\n",
        "accuracy, f1 = evaluate_model(model, testloader)\n",
        "\n",
        "print(f\"{model_name} - Top-1 Accuracy: {accuracy * 100:.2f}%\")\n",
        "print(f\"{model_name} - F1 Score: {f1:.2f}\")\n",
        "print(f\"{model_name} - Training Time: {training_time:.2f} seconds\")"
      ]
    },
    {
      "cell_type": "markdown",
      "metadata": {},
      "source": [
        "#### **VGG-16**"
      ]
    },
    {
      "cell_type": "code",
      "execution_count": null,
      "metadata": {
        "colab": {
          "base_uri": "https://localhost:8080/"
        },
        "id": "3oZfYjdj5sNf",
        "outputId": "eb5e5f80-a2a2-40f1-b0f6-018e69ad97f5"
      },
      "outputs": [
        {
          "name": "stdout",
          "output_type": "stream",
          "text": [
            "\n",
            "Training VGG16...\n",
            "\n",
            "Epoch 1, Loss: 4.6152, Accuracy: 0.0103, Time: 433.20 seconds\n",
            "Epoch 2, Loss: 4.6086, Accuracy: 0.0102, Time: 430.03 seconds\n",
            "Epoch 3, Loss: 4.6086, Accuracy: 0.0099, Time: 429.50 seconds\n",
            "Epoch 4, Loss: 4.6077, Accuracy: 0.0100, Time: 429.51 seconds\n",
            "Epoch 5, Loss: 4.6072, Accuracy: 0.0100, Time: 429.60 seconds\n",
            "Epoch 6, Loss: 4.6074, Accuracy: 0.0091, Time: 430.41 seconds\n",
            "Epoch 7, Loss: 4.6073, Accuracy: 0.0091, Time: 429.75 seconds\n",
            "Epoch 8, Loss: 4.6075, Accuracy: 0.0091, Time: 429.76 seconds\n",
            "Epoch 9, Loss: 4.6073, Accuracy: 0.0089, Time: 429.70 seconds\n",
            "Epoch 10, Loss: 4.6070, Accuracy: 0.0091, Time: 430.45 seconds\n",
            "Epoch 11, Loss: 4.6068, Accuracy: 0.0092, Time: 429.73 seconds\n",
            "Epoch 12, Loss: 4.6068, Accuracy: 0.0098, Time: 429.73 seconds\n",
            "Epoch 13, Loss: 4.6068, Accuracy: 0.0101, Time: 430.12 seconds\n",
            "Epoch 14, Loss: 4.6069, Accuracy: 0.0095, Time: 429.81 seconds\n",
            "Epoch 15, Loss: 4.6068, Accuracy: 0.0091, Time: 430.41 seconds\n",
            "Epoch 16, Loss: 4.6066, Accuracy: 0.0096, Time: 429.79 seconds\n",
            "Epoch 17, Loss: 4.6068, Accuracy: 0.0090, Time: 430.24 seconds\n",
            "Epoch 18, Loss: 4.6064, Accuracy: 0.0098, Time: 429.79 seconds\n",
            "Epoch 19, Loss: 4.6064, Accuracy: 0.0090, Time: 430.11 seconds\n",
            "Epoch 20, Loss: 4.6066, Accuracy: 0.0099, Time: 430.05 seconds\n",
            "Epoch 21, Loss: 4.6065, Accuracy: 0.0090, Time: 429.45 seconds\n",
            "Epoch 22, Loss: 4.6065, Accuracy: 0.0091, Time: 429.54 seconds\n",
            "Epoch 23, Loss: 4.6063, Accuracy: 0.0094, Time: 430.01 seconds\n",
            "Epoch 24, Loss: 4.6064, Accuracy: 0.0092, Time: 430.04 seconds\n",
            "Epoch 25, Loss: 4.6063, Accuracy: 0.0091, Time: 430.10 seconds\n",
            "VGG16 - Top-1 Accuracy: 1.00%\n",
            "VGG16 - F1 Score: 0.00\n",
            "VGG16 - Training Time: 10750.85 seconds\n"
          ]
        }
      ],
      "source": [
        "# Train and evaluate VGG16\n",
        "model_name = 'VGG16'\n",
        "print(f\"\\nTraining {model_name}...\\n\")\n",
        "model = models[model_name]\n",
        "optimizer = optim.Adam(model.parameters(), lr=0.001)\n",
        "start_time = time.time()\n",
        "train_model(model, trainloader, criterion, optimizer, num_epochs=25)\n",
        "training_time = time.time() - start_time\n",
        "accuracy, f1 = evaluate_model(model, testloader)\n",
        "\n",
        "print(f\"{model_name} - Top-1 Accuracy: {accuracy * 100:.2f}%\")\n",
        "print(f\"{model_name} - F1 Score: {f1:.2f}\")\n",
        "print(f\"{model_name} - Training Time: {training_time:.2f} seconds\")"
      ]
    },
    {
      "cell_type": "markdown",
      "metadata": {},
      "source": [
        "#### **GoogleNet: Inception V3**"
      ]
    },
    {
      "cell_type": "code",
      "execution_count": null,
      "metadata": {
        "colab": {
          "base_uri": "https://localhost:8080/"
        },
        "id": "0CdsQ_ie5vbj",
        "outputId": "123992f0-275f-4873-c7b4-b974dc76d8aa"
      },
      "outputs": [
        {
          "name": "stdout",
          "output_type": "stream",
          "text": [
            "\n",
            "Training InceptionV3...\n",
            "\n",
            "Epoch 1, Loss: 3.707519869581675, Accuracy: 11.49%, Time: 300.349223613739 seconds\n",
            "Epoch 2, Loss: 2.5627949864759096, Accuracy: 31.46%, Time: 299.13457131385803 seconds\n",
            "Epoch 3, Loss: 2.0100145956223696, Accuracy: 44.24%, Time: 299.8215389251709 seconds\n",
            "Epoch 4, Loss: 1.6813800657931919, Accuracy: 52.73%, Time: 299.7049252986908 seconds\n",
            "Epoch 5, Loss: 1.4426599984663233, Accuracy: 58.70%, Time: 299.4903144836426 seconds\n",
            "Epoch 6, Loss: 1.2384110827211074, Accuracy: 63.61%, Time: 299.2987496852875 seconds\n",
            "Epoch 7, Loss: 1.068663236066003, Accuracy: 68.38%, Time: 299.3534474372864 seconds\n",
            "Epoch 8, Loss: 0.9201094804668914, Accuracy: 72.08%, Time: 299.6202931404114 seconds\n",
            "Epoch 9, Loss: 0.7876180445183109, Accuracy: 75.63%, Time: 300.0845775604248 seconds\n",
            "Epoch 10, Loss: 0.6714873101493142, Accuracy: 79.07%, Time: 299.27029252052307 seconds\n",
            "Epoch 11, Loss: 0.5717141309458708, Accuracy: 82.16%, Time: 299.51088523864746 seconds\n",
            "Epoch 12, Loss: 0.4924505337910704, Accuracy: 84.28%, Time: 299.22201466560364 seconds\n",
            "Epoch 13, Loss: 0.4286552190146649, Accuracy: 86.15%, Time: 299.40394830703735 seconds\n",
            "Epoch 14, Loss: 0.3770941534125492, Accuracy: 87.78%, Time: 299.18726873397827 seconds\n",
            "Epoch 15, Loss: 0.32590717810634534, Accuracy: 89.37%, Time: 299.19936299324036 seconds\n",
            "Epoch 16, Loss: 0.3014697172832142, Accuracy: 90.19%, Time: 299.3299026489258 seconds\n",
            "Epoch 17, Loss: 0.2700497852203389, Accuracy: 91.17%, Time: 300.1950190067291 seconds\n",
            "Epoch 18, Loss: 0.24646941544467219, Accuracy: 92.07%, Time: 299.35988092422485 seconds\n",
            "Epoch 19, Loss: 0.22950335411248837, Accuracy: 92.67%, Time: 299.33821415901184 seconds\n",
            "Epoch 20, Loss: 0.21518804416595527, Accuracy: 93.02%, Time: 299.2248296737671 seconds\n",
            "Epoch 21, Loss: 0.19628507151820782, Accuracy: 93.60%, Time: 299.69689321517944 seconds\n",
            "Epoch 22, Loss: 0.18965689060162044, Accuracy: 93.88%, Time: 299.6618101596832 seconds\n",
            "Epoch 23, Loss: 0.17293569337938908, Accuracy: 94.36%, Time: 299.46027970314026 seconds\n",
            "Epoch 24, Loss: 0.17193609146908956, Accuracy: 94.51%, Time: 299.8807101249695 seconds\n",
            "Epoch 25, Loss: 0.1585164142166868, Accuracy: 94.84%, Time: 299.3837628364563 seconds\n",
            "InceptionV3 - Top-1 Accuracy: 67.51%\n",
            "InceptionV3 - F1 Score: 0.68\n",
            "Training and evaluation time for InceptionV3: 7488.203298091888 seconds\n"
          ]
        }
      ],
      "source": [
        "# Training and evaluating InceptionV3\n",
        "print(\"\\nTraining InceptionV3...\\n\")\n",
        "model_inceptionv3 = models['InceptionV3']\n",
        "optimizer_inceptionv3 = optim.Adam(model_inceptionv3.parameters(), lr=0.001)\n",
        "\n",
        "start_time = time.time()\n",
        "train_model_inception(model_inceptionv3, trainloader_inception, criterion, optimizer_inceptionv3, num_epochs=25)\n",
        "end_time = time.time()\n",
        "\n",
        "accuracy_inceptionv3, f1_inceptionv3 = evaluate_model(model_inceptionv3, testloader_inception)\n",
        "print(f\"InceptionV3 - Top-1 Accuracy: {accuracy_inceptionv3 * 100:.2f}%\")\n",
        "print(f\"InceptionV3 - F1 Score: {f1_inceptionv3:.2f}\")\n",
        "print(f\"Training and evaluation time for InceptionV3: {end_time - start_time} seconds\")"
      ]
    },
    {
      "cell_type": "markdown",
      "metadata": {},
      "source": [
        "#### **EfficientNet-B1**"
      ]
    },
    {
      "cell_type": "code",
      "execution_count": null,
      "metadata": {
        "colab": {
          "base_uri": "https://localhost:8080/"
        },
        "id": "UQ029lrz5yeF",
        "outputId": "db055e97-bb9f-4501-e7e3-b779c9da15d5"
      },
      "outputs": [
        {
          "name": "stdout",
          "output_type": "stream",
          "text": [
            "\n",
            "Training EfficientNet-B1...\n",
            "\n",
            "Epoch 1, Loss: 1.5150, Accuracy: 0.5959, Time: 207.93 seconds\n",
            "Epoch 2, Loss: 0.8722, Accuracy: 0.7428, Time: 207.28 seconds\n",
            "Epoch 3, Loss: 0.6783, Accuracy: 0.7948, Time: 207.19 seconds\n",
            "Epoch 4, Loss: 0.5565, Accuracy: 0.8276, Time: 207.48 seconds\n",
            "Epoch 5, Loss: 0.4617, Accuracy: 0.8551, Time: 207.55 seconds\n",
            "Epoch 6, Loss: 0.3968, Accuracy: 0.8727, Time: 207.26 seconds\n",
            "Epoch 7, Loss: 0.3453, Accuracy: 0.8895, Time: 207.39 seconds\n",
            "Epoch 8, Loss: 0.2952, Accuracy: 0.9053, Time: 207.24 seconds\n",
            "Epoch 9, Loss: 0.2598, Accuracy: 0.9168, Time: 207.19 seconds\n",
            "Epoch 10, Loss: 0.2433, Accuracy: 0.9220, Time: 207.54 seconds\n",
            "Epoch 11, Loss: 0.2167, Accuracy: 0.9293, Time: 207.40 seconds\n",
            "Epoch 12, Loss: 0.2017, Accuracy: 0.9356, Time: 207.43 seconds\n",
            "Epoch 13, Loss: 0.1896, Accuracy: 0.9392, Time: 207.55 seconds\n",
            "Epoch 14, Loss: 0.1724, Accuracy: 0.9441, Time: 207.58 seconds\n",
            "Epoch 15, Loss: 0.1693, Accuracy: 0.9455, Time: 207.23 seconds\n",
            "Epoch 16, Loss: 0.1551, Accuracy: 0.9503, Time: 207.30 seconds\n",
            "Epoch 17, Loss: 0.1467, Accuracy: 0.9533, Time: 207.48 seconds\n",
            "Epoch 18, Loss: 0.1385, Accuracy: 0.9549, Time: 207.55 seconds\n",
            "Epoch 19, Loss: 0.1412, Accuracy: 0.9551, Time: 207.65 seconds\n",
            "Epoch 20, Loss: 0.1218, Accuracy: 0.9608, Time: 208.26 seconds\n",
            "Epoch 21, Loss: 0.1253, Accuracy: 0.9596, Time: 207.96 seconds\n",
            "Epoch 22, Loss: 0.1183, Accuracy: 0.9618, Time: 207.92 seconds\n",
            "Epoch 23, Loss: 0.1162, Accuracy: 0.9636, Time: 208.19 seconds\n",
            "Epoch 24, Loss: 0.1095, Accuracy: 0.9648, Time: 207.97 seconds\n",
            "Epoch 25, Loss: 0.1054, Accuracy: 0.9653, Time: 207.80 seconds\n",
            "EfficientNet-B1 - Top-1 Accuracy: 77.59%\n",
            "EfficientNet-B1 - F1 Score: 0.78\n",
            "EfficientNet-B1 - Training Time: 5189.35 seconds\n"
          ]
        }
      ],
      "source": [
        "# Training and evaluating EfficientNet-B1\n",
        "print(\"\\nTraining EfficientNet-B1...\\n\")\n",
        "model_efficientnet_b1 = models['EfficientNet-B1'].to(device)  # Ensure the model is on GPU\n",
        "optimizer_efficientnet_b1 = optim.Adam(model_efficientnet_b1.parameters(), lr=0.001)\n",
        "\n",
        "start_time = time.time()\n",
        "train_model(model_efficientnet_b1, trainloader, criterion, optimizer_efficientnet_b1, num_epochs=25)\n",
        "training_time = time.time() - start_time\n",
        "\n",
        "accuracy_efficientnet_b1, f1_efficientnet_b1 = evaluate_model(model_efficientnet_b1, testloader)\n",
        "print(f\"EfficientNet-B1 - Top-1 Accuracy: {accuracy_efficientnet_b1 * 100:.2f}%\")\n",
        "print(f\"EfficientNet-B1 - F1 Score: {f1_efficientnet_b1:.2f}\")\n",
        "print(f\"EfficientNet-B1 - Training Time: {training_time:.2f} seconds\")"
      ]
    },
    {
      "cell_type": "markdown",
      "metadata": {},
      "source": [
        "#### **EfficientNet-B3**"
      ]
    },
    {
      "cell_type": "code",
      "execution_count": 8,
      "metadata": {
        "colab": {
          "base_uri": "https://localhost:8080/"
        },
        "id": "P8W82ErW51hc",
        "outputId": "c24ffc42-313d-4418-e871-d975824f5ac9"
      },
      "outputs": [
        {
          "name": "stdout",
          "output_type": "stream",
          "text": [
            "\n",
            "Training EfficientNet-B3...\n",
            "\n",
            "Epoch 1, Loss: 1.3788, Accuracy: 0.6197, Time: 137.48 seconds\n",
            "Epoch 2, Loss: 0.8050, Accuracy: 0.7603, Time: 134.64 seconds\n",
            "Epoch 3, Loss: 0.6326, Accuracy: 0.8058, Time: 135.59 seconds\n",
            "Epoch 4, Loss: 0.5080, Accuracy: 0.8412, Time: 135.17 seconds\n",
            "Epoch 5, Loss: 0.4236, Accuracy: 0.8670, Time: 135.59 seconds\n",
            "Epoch 6, Loss: 0.3524, Accuracy: 0.8894, Time: 134.73 seconds\n",
            "Epoch 7, Loss: 0.3079, Accuracy: 0.9018, Time: 135.25 seconds\n",
            "Epoch 8, Loss: 0.2768, Accuracy: 0.9124, Time: 135.50 seconds\n",
            "Epoch 9, Loss: 0.2455, Accuracy: 0.9226, Time: 135.46 seconds\n",
            "Epoch 10, Loss: 0.2201, Accuracy: 0.9298, Time: 135.81 seconds\n",
            "Epoch 11, Loss: 0.1991, Accuracy: 0.9355, Time: 135.59 seconds\n",
            "Epoch 12, Loss: 0.1906, Accuracy: 0.9395, Time: 135.26 seconds\n",
            "Epoch 13, Loss: 0.1738, Accuracy: 0.9451, Time: 135.31 seconds\n",
            "Epoch 14, Loss: 0.1653, Accuracy: 0.9473, Time: 135.02 seconds\n",
            "Epoch 15, Loss: 0.1550, Accuracy: 0.9498, Time: 135.98 seconds\n",
            "Epoch 16, Loss: 0.1482, Accuracy: 0.9532, Time: 135.07 seconds\n",
            "Epoch 17, Loss: 0.1439, Accuracy: 0.9550, Time: 136.22 seconds\n",
            "Epoch 18, Loss: 0.1372, Accuracy: 0.9569, Time: 136.98 seconds\n",
            "Epoch 19, Loss: 0.1243, Accuracy: 0.9605, Time: 136.45 seconds\n",
            "Epoch 20, Loss: 0.1260, Accuracy: 0.9598, Time: 135.85 seconds\n",
            "Epoch 21, Loss: 0.1235, Accuracy: 0.9610, Time: 135.72 seconds\n",
            "Epoch 22, Loss: 0.1066, Accuracy: 0.9661, Time: 135.70 seconds\n",
            "Epoch 23, Loss: 0.1132, Accuracy: 0.9648, Time: 135.11 seconds\n",
            "Epoch 24, Loss: 0.1109, Accuracy: 0.9658, Time: 136.17 seconds\n",
            "Epoch 25, Loss: 0.0962, Accuracy: 0.9694, Time: 135.63 seconds\n",
            "EfficientNet-B3 - Top-1 Accuracy: 77.64%\n",
            "EfficientNet-B3 - F1 Score: 0.78\n",
            "EfficientNet-B3 - Training Time: 3391.31 seconds\n"
          ]
        }
      ],
      "source": [
        "# Training and evaluating EfficientNet-B3\n",
        "print(\"\\nTraining EfficientNet-B3...\\n\")\n",
        "model_efficientnet_b3 = models['EfficientNet-B3'].to(device)  # Ensure the model is on GPU\n",
        "optimizer_efficientnet_b3 = optim.Adam(model_efficientnet_b3.parameters(), lr=0.001)\n",
        "\n",
        "start_time = time.time()\n",
        "train_model(model_efficientnet_b3, trainloader, criterion, optimizer_efficientnet_b3, num_epochs=25)\n",
        "training_time = time.time() - start_time\n",
        "\n",
        "accuracy_efficientnet_b3, f1_efficientnet_b3 = evaluate_model(model_efficientnet_b3, testloader)\n",
        "print(f\"EfficientNet-B3 - Top-1 Accuracy: {accuracy_efficientnet_b3 * 100:.2f}%\")\n",
        "print(f\"EfficientNet-B3 - F1 Score: {f1_efficientnet_b3:.2f}\")\n",
        "print(f\"EfficientNet-B3 - Training Time: {training_time:.2f} seconds\")"
      ]
    },
    {
      "cell_type": "markdown",
      "metadata": {},
      "source": [
        "#### **EfficientNet-B5**"
      ]
    },
    {
      "cell_type": "code",
      "execution_count": 11,
      "metadata": {
        "colab": {
          "base_uri": "https://localhost:8080/"
        },
        "id": "dMYZ4Vy16UqV",
        "outputId": "368203f5-2245-426a-c4ff-2567662dcc19"
      },
      "outputs": [
        {
          "name": "stdout",
          "output_type": "stream",
          "text": [
            "\n",
            "Training EfficientNet-B5...\n",
            "\n",
            "Epoch 1, Loss: 1.5030, Accuracy: 0.5906, Time: 213.76 seconds\n",
            "Epoch 2, Loss: 0.9167, Accuracy: 0.7314, Time: 212.80 seconds\n",
            "Epoch 3, Loss: 0.7039, Accuracy: 0.7888, Time: 213.30 seconds\n",
            "Epoch 4, Loss: 0.5699, Accuracy: 0.8260, Time: 213.21 seconds\n",
            "Epoch 5, Loss: 0.4699, Accuracy: 0.8553, Time: 213.38 seconds\n",
            "Epoch 6, Loss: 0.3989, Accuracy: 0.8751, Time: 213.83 seconds\n",
            "Epoch 7, Loss: 0.3424, Accuracy: 0.8919, Time: 212.98 seconds\n",
            "Epoch 8, Loss: 0.2933, Accuracy: 0.9076, Time: 213.07 seconds\n",
            "Epoch 9, Loss: 0.2697, Accuracy: 0.9141, Time: 213.83 seconds\n",
            "Epoch 10, Loss: 0.2460, Accuracy: 0.9228, Time: 213.28 seconds\n",
            "Epoch 11, Loss: 0.2250, Accuracy: 0.9300, Time: 212.39 seconds\n",
            "Epoch 12, Loss: 0.2070, Accuracy: 0.9353, Time: 213.99 seconds\n",
            "Epoch 13, Loss: 0.1944, Accuracy: 0.9389, Time: 214.26 seconds\n",
            "Epoch 14, Loss: 0.1728, Accuracy: 0.9455, Time: 213.34 seconds\n",
            "Epoch 15, Loss: 0.1682, Accuracy: 0.9484, Time: 212.97 seconds\n",
            "Epoch 16, Loss: 0.1634, Accuracy: 0.9485, Time: 212.82 seconds\n",
            "Epoch 17, Loss: 0.1486, Accuracy: 0.9532, Time: 213.09 seconds\n",
            "Epoch 18, Loss: 0.1483, Accuracy: 0.9537, Time: 213.27 seconds\n",
            "Epoch 19, Loss: 0.1372, Accuracy: 0.9576, Time: 213.88 seconds\n",
            "Epoch 20, Loss: 0.1320, Accuracy: 0.9588, Time: 213.03 seconds\n",
            "Epoch 21, Loss: 0.1271, Accuracy: 0.9602, Time: 214.09 seconds\n",
            "Epoch 22, Loss: 0.1270, Accuracy: 0.9606, Time: 213.37 seconds\n",
            "Epoch 23, Loss: 0.1169, Accuracy: 0.9644, Time: 212.93 seconds\n",
            "Epoch 24, Loss: 0.1125, Accuracy: 0.9665, Time: 213.16 seconds\n",
            "Epoch 25, Loss: 0.1177, Accuracy: 0.9632, Time: 213.88 seconds\n",
            "EfficientNet-B5 - Top-1 Accuracy: 76.04%\n",
            "EfficientNet-B5 - F1 Score: 0.76\n",
            "EfficientNet-B5 - Training Time: 5333.92 seconds\n"
          ]
        }
      ],
      "source": [
        "# Training and evaluating EfficientNet-B5\n",
        "print(\"\\nTraining EfficientNet-B5...\\n\")\n",
        "model_efficientnet_b5 = models['EfficientNet-B5'].to(device)  # Ensure the model is on GPU\n",
        "optimizer_efficientnet_b5 = optim.Adam(model_efficientnet_b5.parameters(), lr=0.001)\n",
        "\n",
        "start_time = time.time()\n",
        "train_model(model_efficientnet_b5, trainloader, criterion, optimizer_efficientnet_b5, num_epochs=25)\n",
        "training_time = time.time() - start_time\n",
        "\n",
        "accuracy_efficientnet_b5, f1_efficientnet_b5 = evaluate_model(model_efficientnet_b5, testloader)\n",
        "print(f\"EfficientNet-B5 - Top-1 Accuracy: {accuracy_efficientnet_b5 * 100:.2f}%\")\n",
        "print(f\"EfficientNet-B5 - F1 Score: {f1_efficientnet_b5:.2f}\")\n",
        "print(f\"EfficientNet-B5 - Training Time: {training_time:.2f} seconds\")\n"
      ]
    }
  ],
  "metadata": {
    "accelerator": "GPU",
    "colab": {
      "gpuType": "A100",
      "provenance": []
    },
    "kernelspec": {
      "display_name": "Python 3",
      "name": "python3"
    },
    "language_info": {
      "codemirror_mode": {
        "name": "ipython",
        "version": 3
      },
      "file_extension": ".py",
      "mimetype": "text/x-python",
      "name": "python",
      "nbconvert_exporter": "python",
      "pygments_lexer": "ipython3",
      "version": "3.12.3"
    }
  },
  "nbformat": 4,
  "nbformat_minor": 0
}
